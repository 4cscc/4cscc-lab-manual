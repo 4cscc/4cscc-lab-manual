{
 "cells": [
  {
   "cell_type": "markdown",
   "id": "c2780010",
   "metadata": {},
   "source": [
    "# Navajo Well Water Data\n",
    "The Navajo Nation, located in the American Southwest, is the largest contiguous Native American Nation and has an over 100-year legacy of hard rock mining. The Ingram lab has quantified the arsenic and uranium concentrations in water systems in the Arizona and Utah side of the Navajo Nation and determined if there are other elements of concern. Between 2014 and 2017, 294 water samples were collected across the Arizona and Utah side of the Navajo Nation and analyzed for 21 elements. Of these, 14 elements had at least one instance of a concentration greater than a national regulatory limit, and six of these (V, Ca, As, Mn, Li, and U) had the highest incidence of exceedances and were of concern to various communities in the Navajo Nation.\n",
    "\n",
    "## Information on Clean Water\n",
    "\n",
    "https://storymaps.arcgis.com/stories/1b4dc0d978c74d97a559e615730d4cd4\n",
    "\n",
    "## Paper Regarding Data\n",
    "\n",
    "If you want to read the paper this data was published alongside, it is bookmarked on your computer as \"Contamination-Paper.\""
   ]
  },
  {
   "cell_type": "code",
   "execution_count": null,
   "id": "83ce240e",
   "metadata": {},
   "outputs": [],
   "source": [
    "import pandas as pd\n",
    "\n",
    "data_fp = './assets/jgc-k-sensor-log.csv'\n",
    "df = pd.read_csv(data_fp)"
   ]
  }
 ],
 "metadata": {
  "kernelspec": {
   "display_name": "Python 3 (ipykernel)",
   "language": "python",
   "name": "python3"
  },
  "language_info": {
   "codemirror_mode": {
    "name": "ipython",
    "version": 3
   },
   "file_extension": ".py",
   "mimetype": "text/x-python",
   "name": "python",
   "nbconvert_exporter": "python",
   "pygments_lexer": "ipython3",
   "version": "3.9.2"
  }
 },
 "nbformat": 4,
 "nbformat_minor": 5
}
